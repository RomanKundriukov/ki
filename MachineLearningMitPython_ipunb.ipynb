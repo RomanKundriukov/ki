{
  "nbformat": 4,
  "nbformat_minor": 0,
  "metadata": {
    "colab": {
      "provenance": [],
      "collapsed_sections": [
        "Eo-c1TEZ2PGJ",
        "LWRjWM-y2gXu",
        "KfT5eBZA2s_-"
      ],
      "authorship_tag": "ABX9TyMrTde5XlnxT7j32ML9QUWb",
      "include_colab_link": true
    },
    "kernelspec": {
      "name": "python3",
      "display_name": "Python 3"
    },
    "language_info": {
      "name": "python"
    }
  },
  "cells": [
    {
      "cell_type": "markdown",
      "metadata": {
        "id": "view-in-github",
        "colab_type": "text"
      },
      "source": [
        "<a href=\"https://colab.research.google.com/github/RomanKundriukov/ki/blob/main/MachineLearningMitPython_ipunb.ipynb\" target=\"_parent\"><img src=\"https://colab.research.google.com/assets/colab-badge.svg\" alt=\"Open In Colab\"/></a>"
      ]
    },
    {
      "cell_type": "markdown",
      "source": [
        "# Modell Celsius zu Fahrenheit"
      ],
      "metadata": {
        "id": "Eo-c1TEZ2PGJ"
      }
    },
    {
      "cell_type": "code",
      "source": [
        "#!pip install openpyxl"
      ],
      "metadata": {
        "colab": {
          "base_uri": "https://localhost:8080/"
        },
        "id": "xPUahiLC9Ic6",
        "outputId": "25016ef0-38d7-468b-e49d-6d2d6e0c4deb"
      },
      "execution_count": 17,
      "outputs": [
        {
          "output_type": "stream",
          "name": "stdout",
          "text": [
            "Collecting openpyxl\n",
            "  Downloading openpyxl-3.1.5-py2.py3-none-any.whl.metadata (2.5 kB)\n",
            "Collecting et-xmlfile (from openpyxl)\n",
            "  Downloading et_xmlfile-2.0.0-py3-none-any.whl.metadata (2.7 kB)\n",
            "Downloading openpyxl-3.1.5-py2.py3-none-any.whl (250 kB)\n",
            "Downloading et_xmlfile-2.0.0-py3-none-any.whl (18 kB)\n",
            "Installing collected packages: et-xmlfile, openpyxl\n",
            "Successfully installed et-xmlfile-2.0.0 openpyxl-3.1.5\n",
            "\u001b[33mWARNING: Running pip as the 'root' user can result in broken permissions and conflicting behaviour with the system package manager, possibly rendering your system unusable.It is recommended to use a virtual environment instead: https://pip.pypa.io/warnings/venv. Use the --root-user-action option if you know what you are doing and want to suppress this warning.\u001b[0m\u001b[33m\n",
            "\u001b[0m"
          ]
        }
      ]
    },
    {
      "cell_type": "markdown",
      "source": [
        "# Import"
      ],
      "metadata": {
        "id": "LWRjWM-y2gXu"
      }
    },
    {
      "cell_type": "code",
      "execution_count": 37,
      "metadata": {
        "id": "lJ_mZ6lw4mym"
      },
      "outputs": [],
      "source": [
        "import tensorflow as tf\n",
        "import numpy as np\n",
        "import logging\n",
        "import os\n",
        "import pandas as pd\n",
        "import matplotlib.pyplot as plt"
      ]
    },
    {
      "cell_type": "markdown",
      "source": [
        "# initialisieren logger\n"
      ],
      "metadata": {
        "id": "KfT5eBZA2s_-"
      }
    },
    {
      "cell_type": "code",
      "source": [
        "logger = tf.get_logger()\n",
        "logger.setLevel(logging.ERROR)"
      ],
      "metadata": {
        "id": "6geAlIyC2obU"
      },
      "execution_count": 2,
      "outputs": []
    },
    {
      "cell_type": "markdown",
      "source": [
        "# Trainings Daten\n"
      ],
      "metadata": {
        "id": "Mp_P-_AX24uj"
      }
    },
    {
      "cell_type": "code",
      "source": [
        "# mein\n",
        "tabelle_pfad=\"./TrainingsData/C&F.xlsx\"\n",
        "\n",
        "df = pd.read_excel(tabelle_pfad)\n",
        "\n",
        "celcius_q = np.array(df['C'], dtype=float)\n",
        "fahrenheit_a = np.array(df['F'], dtype=float)\n",
        "\n",
        "celcius_q_train = celcius_q[:200]\n",
        "fahrenheit_a_train = fahrenheit_a[:200]\n",
        "\n",
        "# Testdaten (Labels - ab Index 200)\n",
        "celcius_q_label = celcius_q[200:]\n",
        "fahrenheit_a_label = fahrenheit_a[200:]\n"
      ],
      "metadata": {
        "id": "KYw3yW9Q29Qr"
      },
      "execution_count": 142,
      "outputs": []
    },
    {
      "cell_type": "markdown",
      "source": [
        "# Erstellen ein Modell (Dense Layer)"
      ],
      "metadata": {
        "id": "AgBDRgm54WNV"
      }
    },
    {
      "cell_type": "code",
      "source": [
        "model = tf.keras.Sequential([\n",
        "    tf.keras.layers.Dense(16, activation='relu', input_shape=[1]),  # Verborgene Schicht\n",
        "    tf.keras.layers.Dense(8, activation='relu'),                   # Weitere verborgene Schicht\n",
        "    tf.keras.layers.Dense(1)                                       # Ausgabeschicht\n",
        "])\n",
        "\n",
        "model.summary()\n",
        "\n",
        "model.compile(\n",
        "    optimizer=tf.keras.optimizers.Adam(learning_rate=0.01),  # Kleinere Lernrate\n",
        "    loss='mean_squared_error',  # Verlustfunktion\n",
        "    metrics=['mae']             # Mittlerer absoluter Fehler als zusätzliche Metrik\n",
        ")"
      ],
      "metadata": {
        "colab": {
          "base_uri": "https://localhost:8080/",
          "height": 291
        },
        "id": "8S3ikxdI4bnv",
        "outputId": "38e3f2b2-8c5d-4abc-e5ee-7dbc5aeb2649"
      },
      "execution_count": 143,
      "outputs": [
        {
          "output_type": "stream",
          "name": "stderr",
          "text": [
            "/usr/local/lib/python3.11/dist-packages/keras/src/layers/core/dense.py:87: UserWarning: Do not pass an `input_shape`/`input_dim` argument to a layer. When using Sequential models, prefer using an `Input(shape)` object as the first layer in the model instead.\n",
            "  super().__init__(activity_regularizer=activity_regularizer, **kwargs)\n"
          ]
        },
        {
          "output_type": "display_data",
          "data": {
            "text/plain": [
              "\u001b[1mModel: \"sequential_15\"\u001b[0m\n"
            ],
            "text/html": [
              "<pre style=\"white-space:pre;overflow-x:auto;line-height:normal;font-family:Menlo,'DejaVu Sans Mono',consolas,'Courier New',monospace\"><span style=\"font-weight: bold\">Model: \"sequential_15\"</span>\n",
              "</pre>\n"
            ]
          },
          "metadata": {}
        },
        {
          "output_type": "display_data",
          "data": {
            "text/plain": [
              "┏━━━━━━━━━━━━━━━━━━━━━━━━━━━━━━━━━┳━━━━━━━━━━━━━━━━━━━━━━━━┳━━━━━━━━━━━━━━━┓\n",
              "┃\u001b[1m \u001b[0m\u001b[1mLayer (type)                   \u001b[0m\u001b[1m \u001b[0m┃\u001b[1m \u001b[0m\u001b[1mOutput Shape          \u001b[0m\u001b[1m \u001b[0m┃\u001b[1m \u001b[0m\u001b[1m      Param #\u001b[0m\u001b[1m \u001b[0m┃\n",
              "┡━━━━━━━━━━━━━━━━━━━━━━━━━━━━━━━━━╇━━━━━━━━━━━━━━━━━━━━━━━━╇━━━━━━━━━━━━━━━┩\n",
              "│ dense_21 (\u001b[38;5;33mDense\u001b[0m)                │ (\u001b[38;5;45mNone\u001b[0m, \u001b[38;5;34m16\u001b[0m)             │            \u001b[38;5;34m32\u001b[0m │\n",
              "├─────────────────────────────────┼────────────────────────┼───────────────┤\n",
              "│ dense_22 (\u001b[38;5;33mDense\u001b[0m)                │ (\u001b[38;5;45mNone\u001b[0m, \u001b[38;5;34m8\u001b[0m)              │           \u001b[38;5;34m136\u001b[0m │\n",
              "├─────────────────────────────────┼────────────────────────┼───────────────┤\n",
              "│ dense_23 (\u001b[38;5;33mDense\u001b[0m)                │ (\u001b[38;5;45mNone\u001b[0m, \u001b[38;5;34m1\u001b[0m)              │             \u001b[38;5;34m9\u001b[0m │\n",
              "└─────────────────────────────────┴────────────────────────┴───────────────┘\n"
            ],
            "text/html": [
              "<pre style=\"white-space:pre;overflow-x:auto;line-height:normal;font-family:Menlo,'DejaVu Sans Mono',consolas,'Courier New',monospace\">┏━━━━━━━━━━━━━━━━━━━━━━━━━━━━━━━━━┳━━━━━━━━━━━━━━━━━━━━━━━━┳━━━━━━━━━━━━━━━┓\n",
              "┃<span style=\"font-weight: bold\"> Layer (type)                    </span>┃<span style=\"font-weight: bold\"> Output Shape           </span>┃<span style=\"font-weight: bold\">       Param # </span>┃\n",
              "┡━━━━━━━━━━━━━━━━━━━━━━━━━━━━━━━━━╇━━━━━━━━━━━━━━━━━━━━━━━━╇━━━━━━━━━━━━━━━┩\n",
              "│ dense_21 (<span style=\"color: #0087ff; text-decoration-color: #0087ff\">Dense</span>)                │ (<span style=\"color: #00d7ff; text-decoration-color: #00d7ff\">None</span>, <span style=\"color: #00af00; text-decoration-color: #00af00\">16</span>)             │            <span style=\"color: #00af00; text-decoration-color: #00af00\">32</span> │\n",
              "├─────────────────────────────────┼────────────────────────┼───────────────┤\n",
              "│ dense_22 (<span style=\"color: #0087ff; text-decoration-color: #0087ff\">Dense</span>)                │ (<span style=\"color: #00d7ff; text-decoration-color: #00d7ff\">None</span>, <span style=\"color: #00af00; text-decoration-color: #00af00\">8</span>)              │           <span style=\"color: #00af00; text-decoration-color: #00af00\">136</span> │\n",
              "├─────────────────────────────────┼────────────────────────┼───────────────┤\n",
              "│ dense_23 (<span style=\"color: #0087ff; text-decoration-color: #0087ff\">Dense</span>)                │ (<span style=\"color: #00d7ff; text-decoration-color: #00d7ff\">None</span>, <span style=\"color: #00af00; text-decoration-color: #00af00\">1</span>)              │             <span style=\"color: #00af00; text-decoration-color: #00af00\">9</span> │\n",
              "└─────────────────────────────────┴────────────────────────┴───────────────┘\n",
              "</pre>\n"
            ]
          },
          "metadata": {}
        },
        {
          "output_type": "display_data",
          "data": {
            "text/plain": [
              "\u001b[1m Total params: \u001b[0m\u001b[38;5;34m177\u001b[0m (708.00 B)\n"
            ],
            "text/html": [
              "<pre style=\"white-space:pre;overflow-x:auto;line-height:normal;font-family:Menlo,'DejaVu Sans Mono',consolas,'Courier New',monospace\"><span style=\"font-weight: bold\"> Total params: </span><span style=\"color: #00af00; text-decoration-color: #00af00\">177</span> (708.00 B)\n",
              "</pre>\n"
            ]
          },
          "metadata": {}
        },
        {
          "output_type": "display_data",
          "data": {
            "text/plain": [
              "\u001b[1m Trainable params: \u001b[0m\u001b[38;5;34m177\u001b[0m (708.00 B)\n"
            ],
            "text/html": [
              "<pre style=\"white-space:pre;overflow-x:auto;line-height:normal;font-family:Menlo,'DejaVu Sans Mono',consolas,'Courier New',monospace\"><span style=\"font-weight: bold\"> Trainable params: </span><span style=\"color: #00af00; text-decoration-color: #00af00\">177</span> (708.00 B)\n",
              "</pre>\n"
            ]
          },
          "metadata": {}
        },
        {
          "output_type": "display_data",
          "data": {
            "text/plain": [
              "\u001b[1m Non-trainable params: \u001b[0m\u001b[38;5;34m0\u001b[0m (0.00 B)\n"
            ],
            "text/html": [
              "<pre style=\"white-space:pre;overflow-x:auto;line-height:normal;font-family:Menlo,'DejaVu Sans Mono',consolas,'Courier New',monospace\"><span style=\"font-weight: bold\"> Non-trainable params: </span><span style=\"color: #00af00; text-decoration-color: #00af00\">0</span> (0.00 B)\n",
              "</pre>\n"
            ]
          },
          "metadata": {}
        }
      ]
    },
    {
      "cell_type": "markdown",
      "source": [
        "# Training des Modells"
      ],
      "metadata": {
        "id": "w0KJm8_wCeV_"
      }
    },
    {
      "cell_type": "code",
      "source": [
        "#Mein\n",
        "# Callbacks konfigurieren\n",
        "callbacks = [\n",
        "    tf.keras.callbacks.ModelCheckpoint(\n",
        "        filepath='./Modells/C&F.keras',  # Speicherort des besten Modells\n",
        "        save_best_only=True,            # Speichert nur das beste Modell\n",
        "        monitor='val_loss',             # Überwache den Validierungsverlust\n",
        "        mode='min'                      # Minimierung des Loss\n",
        "    ),\n",
        "    tf.keras.callbacks.EarlyStopping(\n",
        "        monitor='val_loss',             # Überwache den Validierungsverlust\n",
        "        patience=5,                    # Stoppt, wenn sich der Verlust 10 Epochen nicht verbessert\n",
        "        restore_best_weights=True       # Stellt die besten Gewichte wieder her\n",
        "    )\n",
        "]\n",
        "\n",
        "history = model.fit(\n",
        "    celcius_q_train, fahrenheit_a_train,\n",
        "    validation_data=(celcius_q_label, fahrenheit_a_label),\n",
        "    epochs=100,\n",
        "    batch_size=32,\n",
        "    callbacks=callbacks,\n",
        "    verbose=1\n",
        ")\n",
        "\n",
        "plt.figure(figsize=(8, 6))\n",
        "plt.plot(history.history['loss'], label='Training Loss')\n",
        "plt.plot(history.history['val_loss'], label='Validation Loss')\n",
        "plt.xlabel('Epochs')\n",
        "plt.ylabel('Loss')\n",
        "plt.legend()\n",
        "plt.grid(True)\n",
        "plt.show()\n",
        "\n",
        "loss, mae = model.evaluate(celcius_q_label, fahrenheit_a_label, verbose=0)\n",
        "print(f\"Test Loss: {loss}, Test MAE: {mae}\")"
      ],
      "metadata": {
        "colab": {
          "base_uri": "https://localhost:8080/",
          "height": 1000
        },
        "id": "9KsLDHsRCgdg",
        "outputId": "ac87a781-ec26-49aa-a3c8-a76c718de455"
      },
      "execution_count": 149,
      "outputs": [
        {
          "output_type": "stream",
          "name": "stdout",
          "text": [
            "Epoch 1/100\n",
            "\u001b[1m7/7\u001b[0m \u001b[32m━━━━━━━━━━━━━━━━━━━━\u001b[0m\u001b[37m\u001b[0m \u001b[1m0s\u001b[0m 55ms/step - loss: 142.6036 - mae: 10.1406 - val_loss: 3243.7114 - val_mae: 53.1949\n",
            "Epoch 2/100\n",
            "\u001b[1m7/7\u001b[0m \u001b[32m━━━━━━━━━━━━━━━━━━━━\u001b[0m\u001b[37m\u001b[0m \u001b[1m0s\u001b[0m 34ms/step - loss: 116.0887 - mae: 8.8483 - val_loss: 1842.5979 - val_mae: 39.0164\n",
            "Epoch 3/100\n",
            "\u001b[1m7/7\u001b[0m \u001b[32m━━━━━━━━━━━━━━━━━━━━\u001b[0m\u001b[37m\u001b[0m \u001b[1m0s\u001b[0m 18ms/step - loss: 110.8997 - mae: 8.8878 - val_loss: 2329.2695 - val_mae: 44.9694\n",
            "Epoch 4/100\n",
            "\u001b[1m7/7\u001b[0m \u001b[32m━━━━━━━━━━━━━━━━━━━━\u001b[0m\u001b[37m\u001b[0m \u001b[1m0s\u001b[0m 34ms/step - loss: 101.4047 - mae: 8.3210 - val_loss: 1837.0757 - val_mae: 39.7719\n",
            "Epoch 5/100\n",
            "\u001b[1m7/7\u001b[0m \u001b[32m━━━━━━━━━━━━━━━━━━━━\u001b[0m\u001b[37m\u001b[0m \u001b[1m0s\u001b[0m 47ms/step - loss: 89.4029 - mae: 7.7183 - val_loss: 1479.2115 - val_mae: 34.7878\n",
            "Epoch 6/100\n",
            "\u001b[1m7/7\u001b[0m \u001b[32m━━━━━━━━━━━━━━━━━━━━\u001b[0m\u001b[37m\u001b[0m \u001b[1m0s\u001b[0m 43ms/step - loss: 82.6550 - mae: 7.5683 - val_loss: 1270.8057 - val_mae: 31.9728\n",
            "Epoch 7/100\n",
            "\u001b[1m7/7\u001b[0m \u001b[32m━━━━━━━━━━━━━━━━━━━━\u001b[0m\u001b[37m\u001b[0m \u001b[1m0s\u001b[0m 57ms/step - loss: 74.9057 - mae: 7.1565 - val_loss: 1201.1650 - val_mae: 30.8980\n",
            "Epoch 8/100\n",
            "\u001b[1m7/7\u001b[0m \u001b[32m━━━━━━━━━━━━━━━━━━━━\u001b[0m\u001b[37m\u001b[0m \u001b[1m0s\u001b[0m 25ms/step - loss: 60.0499 - mae: 6.5494 - val_loss: 1256.0985 - val_mae: 31.7507\n",
            "Epoch 9/100\n",
            "\u001b[1m7/7\u001b[0m \u001b[32m━━━━━━━━━━━━━━━━━━━━\u001b[0m\u001b[37m\u001b[0m \u001b[1m0s\u001b[0m 26ms/step - loss: 50.1235 - mae: 5.8034 - val_loss: 1285.9974 - val_mae: 32.7295\n",
            "Epoch 10/100\n",
            "\u001b[1m7/7\u001b[0m \u001b[32m━━━━━━━━━━━━━━━━━━━━\u001b[0m\u001b[37m\u001b[0m \u001b[1m0s\u001b[0m 26ms/step - loss: 45.0795 - mae: 5.5554 - val_loss: 1298.1101 - val_mae: 33.0689\n",
            "Epoch 11/100\n",
            "\u001b[1m7/7\u001b[0m \u001b[32m━━━━━━━━━━━━━━━━━━━━\u001b[0m\u001b[37m\u001b[0m \u001b[1m0s\u001b[0m 25ms/step - loss: 37.0580 - mae: 5.0498 - val_loss: 1297.9583 - val_mae: 33.1467\n",
            "Epoch 12/100\n",
            "\u001b[1m7/7\u001b[0m \u001b[32m━━━━━━━━━━━━━━━━━━━━\u001b[0m\u001b[37m\u001b[0m \u001b[1m0s\u001b[0m 40ms/step - loss: 32.5203 - mae: 4.5757 - val_loss: 1177.8999 - val_mae: 30.7738\n",
            "Epoch 13/100\n",
            "\u001b[1m7/7\u001b[0m \u001b[32m━━━━━━━━━━━━━━━━━━━━\u001b[0m\u001b[37m\u001b[0m \u001b[1m0s\u001b[0m 47ms/step - loss: 22.5326 - mae: 3.8987 - val_loss: 1106.9482 - val_mae: 29.6655\n",
            "Epoch 14/100\n",
            "\u001b[1m7/7\u001b[0m \u001b[32m━━━━━━━━━━━━━━━━━━━━\u001b[0m\u001b[37m\u001b[0m \u001b[1m1s\u001b[0m 65ms/step - loss: 20.2228 - mae: 3.7285 - val_loss: 1066.1516 - val_mae: 29.0130\n",
            "Epoch 15/100\n",
            "\u001b[1m7/7\u001b[0m \u001b[32m━━━━━━━━━━━━━━━━━━━━\u001b[0m\u001b[37m\u001b[0m \u001b[1m0s\u001b[0m 49ms/step - loss: 14.2425 - mae: 2.8787 - val_loss: 1053.2278 - val_mae: 28.7949\n",
            "Epoch 16/100\n",
            "\u001b[1m7/7\u001b[0m \u001b[32m━━━━━━━━━━━━━━━━━━━━\u001b[0m\u001b[37m\u001b[0m \u001b[1m0s\u001b[0m 43ms/step - loss: 10.7682 - mae: 2.4594 - val_loss: 1000.0405 - val_mae: 27.9476\n",
            "Epoch 17/100\n",
            "\u001b[1m7/7\u001b[0m \u001b[32m━━━━━━━━━━━━━━━━━━━━\u001b[0m\u001b[37m\u001b[0m \u001b[1m1s\u001b[0m 54ms/step - loss: 6.1478 - mae: 1.6713 - val_loss: 942.1455 - val_mae: 27.0316\n",
            "Epoch 18/100\n",
            "\u001b[1m7/7\u001b[0m \u001b[32m━━━━━━━━━━━━━━━━━━━━\u001b[0m\u001b[37m\u001b[0m \u001b[1m1s\u001b[0m 56ms/step - loss: 4.5793 - mae: 1.3581 - val_loss: 893.8157 - val_mae: 26.2449\n",
            "Epoch 19/100\n",
            "\u001b[1m7/7\u001b[0m \u001b[32m━━━━━━━━━━━━━━━━━━━━\u001b[0m\u001b[37m\u001b[0m \u001b[1m0s\u001b[0m 42ms/step - loss: 3.8133 - mae: 1.1191 - val_loss: 845.9147 - val_mae: 25.4417\n",
            "Epoch 20/100\n",
            "\u001b[1m7/7\u001b[0m \u001b[32m━━━━━━━━━━━━━━━━━━━━\u001b[0m\u001b[37m\u001b[0m \u001b[1m0s\u001b[0m 46ms/step - loss: 2.3214 - mae: 0.6910 - val_loss: 793.6987 - val_mae: 24.5369\n",
            "Epoch 21/100\n",
            "\u001b[1m7/7\u001b[0m \u001b[32m━━━━━━━━━━━━━━━━━━━━\u001b[0m\u001b[37m\u001b[0m \u001b[1m1s\u001b[0m 72ms/step - loss: 2.1421 - mae: 0.6194 - val_loss: 759.9130 - val_mae: 23.9343\n",
            "Epoch 22/100\n",
            "\u001b[1m7/7\u001b[0m \u001b[32m━━━━━━━━━━━━━━━━━━━━\u001b[0m\u001b[37m\u001b[0m \u001b[1m0s\u001b[0m 51ms/step - loss: 1.7559 - mae: 0.5191 - val_loss: 742.9655 - val_mae: 23.6266\n",
            "Epoch 23/100\n",
            "\u001b[1m7/7\u001b[0m \u001b[32m━━━━━━━━━━━━━━━━━━━━\u001b[0m\u001b[37m\u001b[0m \u001b[1m1s\u001b[0m 42ms/step - loss: 1.7776 - mae: 0.5208 - val_loss: 741.1088 - val_mae: 23.5951\n",
            "Epoch 24/100\n",
            "\u001b[1m7/7\u001b[0m \u001b[32m━━━━━━━━━━━━━━━━━━━━\u001b[0m\u001b[37m\u001b[0m \u001b[1m0s\u001b[0m 23ms/step - loss: 1.9844 - mae: 0.6205 - val_loss: 744.0865 - val_mae: 23.6696\n",
            "Epoch 25/100\n",
            "\u001b[1m7/7\u001b[0m \u001b[32m━━━━━━━━━━━━━━━━━━━━\u001b[0m\u001b[37m\u001b[0m \u001b[1m0s\u001b[0m 26ms/step - loss: 1.7741 - mae: 0.6868 - val_loss: 743.2496 - val_mae: 23.6667\n",
            "Epoch 26/100\n",
            "\u001b[1m7/7\u001b[0m \u001b[32m━━━━━━━━━━━━━━━━━━━━\u001b[0m\u001b[37m\u001b[0m \u001b[1m0s\u001b[0m 45ms/step - loss: 2.0752 - mae: 0.8286 - val_loss: 725.2490 - val_mae: 23.3001\n",
            "Epoch 27/100\n",
            "\u001b[1m7/7\u001b[0m \u001b[32m━━━━━━━━━━━━━━━━━━━━\u001b[0m\u001b[37m\u001b[0m \u001b[1m0s\u001b[0m 24ms/step - loss: 1.3282 - mae: 0.6061 - val_loss: 729.8318 - val_mae: 23.3884\n",
            "Epoch 28/100\n",
            "\u001b[1m7/7\u001b[0m \u001b[32m━━━━━━━━━━━━━━━━━━━━\u001b[0m\u001b[37m\u001b[0m \u001b[1m0s\u001b[0m 38ms/step - loss: 1.1541 - mae: 0.5275 - val_loss: 731.6541 - val_mae: 23.4289\n",
            "Epoch 29/100\n",
            "\u001b[1m7/7\u001b[0m \u001b[32m━━━━━━━━━━━━━━━━━━━━\u001b[0m\u001b[37m\u001b[0m \u001b[1m0s\u001b[0m 33ms/step - loss: 1.7636 - mae: 0.7608 - val_loss: 726.6528 - val_mae: 23.3284\n",
            "Epoch 30/100\n",
            "\u001b[1m7/7\u001b[0m \u001b[32m━━━━━━━━━━━━━━━━━━━━\u001b[0m\u001b[37m\u001b[0m \u001b[1m0s\u001b[0m 41ms/step - loss: 1.7612 - mae: 0.6148 - val_loss: 720.6741 - val_mae: 23.2150\n",
            "Epoch 31/100\n",
            "\u001b[1m7/7\u001b[0m \u001b[32m━━━━━━━━━━━━━━━━━━━━\u001b[0m\u001b[37m\u001b[0m \u001b[1m0s\u001b[0m 47ms/step - loss: 1.3686 - mae: 0.6225 - val_loss: 719.0870 - val_mae: 23.1878\n",
            "Epoch 32/100\n",
            "\u001b[1m7/7\u001b[0m \u001b[32m━━━━━━━━━━━━━━━━━━━━\u001b[0m\u001b[37m\u001b[0m \u001b[1m0s\u001b[0m 25ms/step - loss: 1.2037 - mae: 0.5754 - val_loss: 721.5528 - val_mae: 23.2430\n",
            "Epoch 33/100\n",
            "\u001b[1m7/7\u001b[0m \u001b[32m━━━━━━━━━━━━━━━━━━━━\u001b[0m\u001b[37m\u001b[0m \u001b[1m0s\u001b[0m 49ms/step - loss: 1.3072 - mae: 0.7195 - val_loss: 711.2513 - val_mae: 23.0418\n",
            "Epoch 34/100\n",
            "\u001b[1m7/7\u001b[0m \u001b[32m━━━━━━━━━━━━━━━━━━━━\u001b[0m\u001b[37m\u001b[0m \u001b[1m0s\u001b[0m 23ms/step - loss: 1.0775 - mae: 0.5899 - val_loss: 715.3441 - val_mae: 23.1245\n",
            "Epoch 35/100\n",
            "\u001b[1m7/7\u001b[0m \u001b[32m━━━━━━━━━━━━━━━━━━━━\u001b[0m\u001b[37m\u001b[0m \u001b[1m0s\u001b[0m 23ms/step - loss: 1.3117 - mae: 0.6896 - val_loss: 720.8088 - val_mae: 23.2531\n",
            "Epoch 36/100\n",
            "\u001b[1m7/7\u001b[0m \u001b[32m━━━━━━━━━━━━━━━━━━━━\u001b[0m\u001b[37m\u001b[0m \u001b[1m0s\u001b[0m 37ms/step - loss: 1.1124 - mae: 0.6834 - val_loss: 708.0356 - val_mae: 22.9836\n",
            "Epoch 37/100\n",
            "\u001b[1m7/7\u001b[0m \u001b[32m━━━━━━━━━━━━━━━━━━━━\u001b[0m\u001b[37m\u001b[0m \u001b[1m0s\u001b[0m 47ms/step - loss: 1.0196 - mae: 0.5744 - val_loss: 700.4670 - val_mae: 22.8379\n",
            "Epoch 38/100\n",
            "\u001b[1m7/7\u001b[0m \u001b[32m━━━━━━━━━━━━━━━━━━━━\u001b[0m\u001b[37m\u001b[0m \u001b[1m0s\u001b[0m 30ms/step - loss: 1.2519 - mae: 0.6396 - val_loss: 704.5278 - val_mae: 22.9177\n",
            "Epoch 39/100\n",
            "\u001b[1m7/7\u001b[0m \u001b[32m━━━━━━━━━━━━━━━━━━━━\u001b[0m\u001b[37m\u001b[0m \u001b[1m0s\u001b[0m 34ms/step - loss: 1.0794 - mae: 0.5854 - val_loss: 706.1972 - val_mae: 22.9576\n",
            "Epoch 40/100\n",
            "\u001b[1m7/7\u001b[0m \u001b[32m━━━━━━━━━━━━━━━━━━━━\u001b[0m\u001b[37m\u001b[0m \u001b[1m0s\u001b[0m 50ms/step - loss: 0.8784 - mae: 0.5411 - val_loss: 698.3067 - val_mae: 22.7996\n",
            "Epoch 41/100\n",
            "\u001b[1m7/7\u001b[0m \u001b[32m━━━━━━━━━━━━━━━━━━━━\u001b[0m\u001b[37m\u001b[0m \u001b[1m0s\u001b[0m 42ms/step - loss: 1.2480 - mae: 0.6522 - val_loss: 696.7685 - val_mae: 22.7746\n",
            "Epoch 42/100\n",
            "\u001b[1m7/7\u001b[0m \u001b[32m━━━━━━━━━━━━━━━━━━━━\u001b[0m\u001b[37m\u001b[0m \u001b[1m0s\u001b[0m 40ms/step - loss: 1.3588 - mae: 0.6694 - val_loss: 688.9256 - val_mae: 22.6197\n",
            "Epoch 43/100\n",
            "\u001b[1m7/7\u001b[0m \u001b[32m━━━━━━━━━━━━━━━━━━━━\u001b[0m\u001b[37m\u001b[0m \u001b[1m0s\u001b[0m 43ms/step - loss: 1.6509 - mae: 0.8527 - val_loss: 685.8140 - val_mae: 22.5601\n",
            "Epoch 44/100\n",
            "\u001b[1m7/7\u001b[0m \u001b[32m━━━━━━━━━━━━━━━━━━━━\u001b[0m\u001b[37m\u001b[0m \u001b[1m0s\u001b[0m 26ms/step - loss: 0.9157 - mae: 0.5535 - val_loss: 688.0540 - val_mae: 22.6170\n",
            "Epoch 45/100\n",
            "\u001b[1m7/7\u001b[0m \u001b[32m━━━━━━━━━━━━━━━━━━━━\u001b[0m\u001b[37m\u001b[0m \u001b[1m0s\u001b[0m 48ms/step - loss: 0.7075 - mae: 0.4830 - val_loss: 679.3843 - val_mae: 22.4378\n",
            "Epoch 46/100\n",
            "\u001b[1m7/7\u001b[0m \u001b[32m━━━━━━━━━━━━━━━━━━━━\u001b[0m\u001b[37m\u001b[0m \u001b[1m0s\u001b[0m 51ms/step - loss: 0.8995 - mae: 0.5626 - val_loss: 675.2401 - val_mae: 22.3574\n",
            "Epoch 47/100\n",
            "\u001b[1m7/7\u001b[0m \u001b[32m━━━━━━━━━━━━━━━━━━━━\u001b[0m\u001b[37m\u001b[0m \u001b[1m0s\u001b[0m 50ms/step - loss: 0.7173 - mae: 0.4499 - val_loss: 673.5214 - val_mae: 22.3288\n",
            "Epoch 48/100\n",
            "\u001b[1m7/7\u001b[0m \u001b[32m━━━━━━━━━━━━━━━━━━━━\u001b[0m\u001b[37m\u001b[0m \u001b[1m0s\u001b[0m 50ms/step - loss: 0.9232 - mae: 0.4680 - val_loss: 668.6522 - val_mae: 22.2321\n",
            "Epoch 49/100\n",
            "\u001b[1m7/7\u001b[0m \u001b[32m━━━━━━━━━━━━━━━━━━━━\u001b[0m\u001b[37m\u001b[0m \u001b[1m0s\u001b[0m 49ms/step - loss: 0.6932 - mae: 0.4615 - val_loss: 666.2826 - val_mae: 22.1903\n",
            "Epoch 50/100\n",
            "\u001b[1m7/7\u001b[0m \u001b[32m━━━━━━━━━━━━━━━━━━━━\u001b[0m\u001b[37m\u001b[0m \u001b[1m0s\u001b[0m 46ms/step - loss: 0.6879 - mae: 0.4339 - val_loss: 660.3142 - val_mae: 22.0714\n",
            "Epoch 51/100\n",
            "\u001b[1m7/7\u001b[0m \u001b[32m━━━━━━━━━━━━━━━━━━━━\u001b[0m\u001b[37m\u001b[0m \u001b[1m0s\u001b[0m 36ms/step - loss: 0.8552 - mae: 0.5309 - val_loss: 653.1491 - val_mae: 21.9314\n",
            "Epoch 52/100\n",
            "\u001b[1m7/7\u001b[0m \u001b[32m━━━━━━━━━━━━━━━━━━━━\u001b[0m\u001b[37m\u001b[0m \u001b[1m0s\u001b[0m 26ms/step - loss: 0.7186 - mae: 0.5210 - val_loss: 656.4036 - val_mae: 22.0133\n",
            "Epoch 53/100\n",
            "\u001b[1m7/7\u001b[0m \u001b[32m━━━━━━━━━━━━━━━━━━━━\u001b[0m\u001b[37m\u001b[0m \u001b[1m0s\u001b[0m 42ms/step - loss: 0.7125 - mae: 0.5033 - val_loss: 643.2714 - val_mae: 21.7397\n",
            "Epoch 54/100\n",
            "\u001b[1m7/7\u001b[0m \u001b[32m━━━━━━━━━━━━━━━━━━━━\u001b[0m\u001b[37m\u001b[0m \u001b[1m0s\u001b[0m 26ms/step - loss: 0.5365 - mae: 0.4394 - val_loss: 645.2862 - val_mae: 21.7907\n",
            "Epoch 55/100\n",
            "\u001b[1m7/7\u001b[0m \u001b[32m━━━━━━━━━━━━━━━━━━━━\u001b[0m\u001b[37m\u001b[0m \u001b[1m0s\u001b[0m 49ms/step - loss: 0.5559 - mae: 0.4618 - val_loss: 636.1068 - val_mae: 21.5983\n",
            "Epoch 56/100\n",
            "\u001b[1m7/7\u001b[0m \u001b[32m━━━━━━━━━━━━━━━━━━━━\u001b[0m\u001b[37m\u001b[0m \u001b[1m0s\u001b[0m 25ms/step - loss: 0.7159 - mae: 0.5071 - val_loss: 641.1613 - val_mae: 21.7296\n",
            "Epoch 57/100\n",
            "\u001b[1m7/7\u001b[0m \u001b[32m━━━━━━━━━━━━━━━━━━━━\u001b[0m\u001b[37m\u001b[0m \u001b[1m0s\u001b[0m 36ms/step - loss: 0.6035 - mae: 0.5281 - val_loss: 624.6055 - val_mae: 21.3761\n",
            "Epoch 58/100\n",
            "\u001b[1m7/7\u001b[0m \u001b[32m━━━━━━━━━━━━━━━━━━━━\u001b[0m\u001b[37m\u001b[0m \u001b[1m0s\u001b[0m 26ms/step - loss: 1.1146 - mae: 0.7004 - val_loss: 626.9301 - val_mae: 21.4152\n",
            "Epoch 59/100\n",
            "\u001b[1m7/7\u001b[0m \u001b[32m━━━━━━━━━━━━━━━━━━━━\u001b[0m\u001b[37m\u001b[0m \u001b[1m0s\u001b[0m 45ms/step - loss: 0.7540 - mae: 0.5715 - val_loss: 619.7477 - val_mae: 21.2772\n",
            "Epoch 60/100\n",
            "\u001b[1m7/7\u001b[0m \u001b[32m━━━━━━━━━━━━━━━━━━━━\u001b[0m\u001b[37m\u001b[0m \u001b[1m0s\u001b[0m 42ms/step - loss: 0.9808 - mae: 0.7198 - val_loss: 618.9512 - val_mae: 21.2549\n",
            "Epoch 61/100\n",
            "\u001b[1m7/7\u001b[0m \u001b[32m━━━━━━━━━━━━━━━━━━━━\u001b[0m\u001b[37m\u001b[0m \u001b[1m0s\u001b[0m 25ms/step - loss: 0.6209 - mae: 0.4871 - val_loss: 623.7433 - val_mae: 21.3920\n",
            "Epoch 62/100\n",
            "\u001b[1m7/7\u001b[0m \u001b[32m━━━━━━━━━━━━━━━━━━━━\u001b[0m\u001b[37m\u001b[0m \u001b[1m0s\u001b[0m 45ms/step - loss: 0.9453 - mae: 0.6915 - val_loss: 607.2924 - val_mae: 21.0319\n",
            "Epoch 63/100\n",
            "\u001b[1m7/7\u001b[0m \u001b[32m━━━━━━━━━━━━━━━━━━━━\u001b[0m\u001b[37m\u001b[0m \u001b[1m0s\u001b[0m 23ms/step - loss: 0.6435 - mae: 0.5651 - val_loss: 612.9888 - val_mae: 21.1569\n",
            "Epoch 64/100\n",
            "\u001b[1m7/7\u001b[0m \u001b[32m━━━━━━━━━━━━━━━━━━━━\u001b[0m\u001b[37m\u001b[0m \u001b[1m0s\u001b[0m 25ms/step - loss: 0.6692 - mae: 0.4778 - val_loss: 607.5251 - val_mae: 21.0338\n",
            "Epoch 65/100\n",
            "\u001b[1m7/7\u001b[0m \u001b[32m━━━━━━━━━━━━━━━━━━━━\u001b[0m\u001b[37m\u001b[0m \u001b[1m0s\u001b[0m 41ms/step - loss: 0.5296 - mae: 0.4312 - val_loss: 604.0096 - val_mae: 20.9624\n",
            "Epoch 66/100\n",
            "\u001b[1m7/7\u001b[0m \u001b[32m━━━━━━━━━━━━━━━━━━━━\u001b[0m\u001b[37m\u001b[0m \u001b[1m1s\u001b[0m 42ms/step - loss: 0.7020 - mae: 0.5173 - val_loss: 602.7986 - val_mae: 20.9495\n",
            "Epoch 67/100\n",
            "\u001b[1m7/7\u001b[0m \u001b[32m━━━━━━━━━━━━━━━━━━━━\u001b[0m\u001b[37m\u001b[0m \u001b[1m0s\u001b[0m 50ms/step - loss: 0.9885 - mae: 0.6413 - val_loss: 596.3523 - val_mae: 20.8016\n",
            "Epoch 68/100\n",
            "\u001b[1m7/7\u001b[0m \u001b[32m━━━━━━━━━━━━━━━━━━━━\u001b[0m\u001b[37m\u001b[0m \u001b[1m0s\u001b[0m 51ms/step - loss: 0.8203 - mae: 0.5643 - val_loss: 595.6721 - val_mae: 20.7997\n",
            "Epoch 69/100\n",
            "\u001b[1m7/7\u001b[0m \u001b[32m━━━━━━━━━━━━━━━━━━━━\u001b[0m\u001b[37m\u001b[0m \u001b[1m0s\u001b[0m 47ms/step - loss: 1.4552 - mae: 0.7961 - val_loss: 591.3833 - val_mae: 20.7052\n",
            "Epoch 70/100\n",
            "\u001b[1m7/7\u001b[0m \u001b[32m━━━━━━━━━━━━━━━━━━━━\u001b[0m\u001b[37m\u001b[0m \u001b[1m0s\u001b[0m 54ms/step - loss: 1.1911 - mae: 0.7082 - val_loss: 585.8932 - val_mae: 20.5927\n",
            "Epoch 71/100\n",
            "\u001b[1m7/7\u001b[0m \u001b[32m━━━━━━━━━━━━━━━━━━━━\u001b[0m\u001b[37m\u001b[0m \u001b[1m0s\u001b[0m 33ms/step - loss: 0.9345 - mae: 0.7003 - val_loss: 586.2169 - val_mae: 20.6158\n",
            "Epoch 72/100\n",
            "\u001b[1m7/7\u001b[0m \u001b[32m━━━━━━━━━━━━━━━━━━━━\u001b[0m\u001b[37m\u001b[0m \u001b[1m0s\u001b[0m 63ms/step - loss: 0.7028 - mae: 0.5461 - val_loss: 579.1075 - val_mae: 20.4514\n",
            "Epoch 73/100\n",
            "\u001b[1m7/7\u001b[0m \u001b[32m━━━━━━━━━━━━━━━━━━━━\u001b[0m\u001b[37m\u001b[0m \u001b[1m0s\u001b[0m 56ms/step - loss: 0.8763 - mae: 0.6221 - val_loss: 577.7311 - val_mae: 20.4317\n",
            "Epoch 74/100\n",
            "\u001b[1m7/7\u001b[0m \u001b[32m━━━━━━━━━━━━━━━━━━━━\u001b[0m\u001b[37m\u001b[0m \u001b[1m0s\u001b[0m 55ms/step - loss: 0.9646 - mae: 0.6158 - val_loss: 572.9853 - val_mae: 20.3257\n",
            "Epoch 75/100\n",
            "\u001b[1m7/7\u001b[0m \u001b[32m━━━━━━━━━━━━━━━━━━━━\u001b[0m\u001b[37m\u001b[0m \u001b[1m0s\u001b[0m 41ms/step - loss: 0.8217 - mae: 0.5902 - val_loss: 571.8182 - val_mae: 20.3119\n",
            "Epoch 76/100\n",
            "\u001b[1m7/7\u001b[0m \u001b[32m━━━━━━━━━━━━━━━━━━━━\u001b[0m\u001b[37m\u001b[0m \u001b[1m0s\u001b[0m 51ms/step - loss: 1.5219 - mae: 0.8340 - val_loss: 567.4032 - val_mae: 20.2118\n",
            "Epoch 77/100\n",
            "\u001b[1m7/7\u001b[0m \u001b[32m━━━━━━━━━━━━━━━━━━━━\u001b[0m\u001b[37m\u001b[0m \u001b[1m0s\u001b[0m 53ms/step - loss: 1.6927 - mae: 0.7478 - val_loss: 566.5729 - val_mae: 20.2140\n",
            "Epoch 78/100\n",
            "\u001b[1m7/7\u001b[0m \u001b[32m━━━━━━━━━━━━━━━━━━━━\u001b[0m\u001b[37m\u001b[0m \u001b[1m0s\u001b[0m 39ms/step - loss: 1.5957 - mae: 0.8026 - val_loss: 559.3001 - val_mae: 20.0403\n",
            "Epoch 79/100\n",
            "\u001b[1m7/7\u001b[0m \u001b[32m━━━━━━━━━━━━━━━━━━━━\u001b[0m\u001b[37m\u001b[0m \u001b[1m0s\u001b[0m 43ms/step - loss: 1.0876 - mae: 0.6248 - val_loss: 556.9783 - val_mae: 20.0035\n",
            "Epoch 80/100\n",
            "\u001b[1m7/7\u001b[0m \u001b[32m━━━━━━━━━━━━━━━━━━━━\u001b[0m\u001b[37m\u001b[0m \u001b[1m0s\u001b[0m 43ms/step - loss: 1.2919 - mae: 0.8173 - val_loss: 551.6890 - val_mae: 19.8803\n",
            "Epoch 81/100\n",
            "\u001b[1m7/7\u001b[0m \u001b[32m━━━━━━━━━━━━━━━━━━━━\u001b[0m\u001b[37m\u001b[0m \u001b[1m0s\u001b[0m 51ms/step - loss: 0.3699 - mae: 0.3865 - val_loss: 544.4796 - val_mae: 19.7479\n",
            "Epoch 82/100\n",
            "\u001b[1m7/7\u001b[0m \u001b[32m━━━━━━━━━━━━━━━━━━━━\u001b[0m\u001b[37m\u001b[0m \u001b[1m0s\u001b[0m 30ms/step - loss: 0.6204 - mae: 0.5492 - val_loss: 558.5503 - val_mae: 20.1575\n",
            "Epoch 83/100\n",
            "\u001b[1m7/7\u001b[0m \u001b[32m━━━━━━━━━━━━━━━━━━━━\u001b[0m\u001b[37m\u001b[0m \u001b[1m0s\u001b[0m 39ms/step - loss: 0.8293 - mae: 0.6457 - val_loss: 543.8624 - val_mae: 19.7300\n",
            "Epoch 84/100\n",
            "\u001b[1m7/7\u001b[0m \u001b[32m━━━━━━━━━━━━━━━━━━━━\u001b[0m\u001b[37m\u001b[0m \u001b[1m0s\u001b[0m 42ms/step - loss: 0.5295 - mae: 0.5024 - val_loss: 537.7803 - val_mae: 19.5933\n",
            "Epoch 85/100\n",
            "\u001b[1m7/7\u001b[0m \u001b[32m━━━━━━━━━━━━━━━━━━━━\u001b[0m\u001b[37m\u001b[0m \u001b[1m1s\u001b[0m 36ms/step - loss: 0.5729 - mae: 0.4329 - val_loss: 537.1623 - val_mae: 19.5825\n",
            "Epoch 86/100\n",
            "\u001b[1m7/7\u001b[0m \u001b[32m━━━━━━━━━━━━━━━━━━━━\u001b[0m\u001b[37m\u001b[0m \u001b[1m0s\u001b[0m 40ms/step - loss: 0.4525 - mae: 0.4132 - val_loss: 534.7999 - val_mae: 19.5381\n",
            "Epoch 87/100\n",
            "\u001b[1m7/7\u001b[0m \u001b[32m━━━━━━━━━━━━━━━━━━━━\u001b[0m\u001b[37m\u001b[0m \u001b[1m0s\u001b[0m 41ms/step - loss: 0.5560 - mae: 0.4913 - val_loss: 531.5034 - val_mae: 19.4698\n",
            "Epoch 88/100\n",
            "\u001b[1m7/7\u001b[0m \u001b[32m━━━━━━━━━━━━━━━━━━━━\u001b[0m\u001b[37m\u001b[0m \u001b[1m0s\u001b[0m 40ms/step - loss: 0.4244 - mae: 0.4245 - val_loss: 526.9410 - val_mae: 19.3585\n",
            "Epoch 89/100\n",
            "\u001b[1m7/7\u001b[0m \u001b[32m━━━━━━━━━━━━━━━━━━━━\u001b[0m\u001b[37m\u001b[0m \u001b[1m0s\u001b[0m 39ms/step - loss: 0.4515 - mae: 0.4076 - val_loss: 525.0212 - val_mae: 19.3277\n",
            "Epoch 90/100\n",
            "\u001b[1m7/7\u001b[0m \u001b[32m━━━━━━━━━━━━━━━━━━━━\u001b[0m\u001b[37m\u001b[0m \u001b[1m0s\u001b[0m 41ms/step - loss: 0.4312 - mae: 0.3955 - val_loss: 521.6947 - val_mae: 19.2538\n",
            "Epoch 91/100\n",
            "\u001b[1m7/7\u001b[0m \u001b[32m━━━━━━━━━━━━━━━━━━━━\u001b[0m\u001b[37m\u001b[0m \u001b[1m0s\u001b[0m 46ms/step - loss: 0.4810 - mae: 0.4258 - val_loss: 515.1310 - val_mae: 19.1145\n",
            "Epoch 92/100\n",
            "\u001b[1m7/7\u001b[0m \u001b[32m━━━━━━━━━━━━━━━━━━━━\u001b[0m\u001b[37m\u001b[0m \u001b[1m0s\u001b[0m 45ms/step - loss: 0.4874 - mae: 0.4864 - val_loss: 513.9503 - val_mae: 19.0852\n",
            "Epoch 93/100\n",
            "\u001b[1m7/7\u001b[0m \u001b[32m━━━━━━━━━━━━━━━━━━━━\u001b[0m\u001b[37m\u001b[0m \u001b[1m0s\u001b[0m 50ms/step - loss: 0.3566 - mae: 0.3627 - val_loss: 513.2964 - val_mae: 19.1075\n",
            "Epoch 94/100\n",
            "\u001b[1m7/7\u001b[0m \u001b[32m━━━━━━━━━━━━━━━━━━━━\u001b[0m\u001b[37m\u001b[0m \u001b[1m0s\u001b[0m 42ms/step - loss: 0.5509 - mae: 0.4763 - val_loss: 502.1553 - val_mae: 18.8471\n",
            "Epoch 95/100\n",
            "\u001b[1m7/7\u001b[0m \u001b[32m━━━━━━━━━━━━━━━━━━━━\u001b[0m\u001b[37m\u001b[0m \u001b[1m1s\u001b[0m 41ms/step - loss: 0.3944 - mae: 0.4056 - val_loss: 501.6951 - val_mae: 18.8250\n",
            "Epoch 96/100\n",
            "\u001b[1m7/7\u001b[0m \u001b[32m━━━━━━━━━━━━━━━━━━━━\u001b[0m\u001b[37m\u001b[0m \u001b[1m0s\u001b[0m 26ms/step - loss: 0.3531 - mae: 0.4409 - val_loss: 501.9341 - val_mae: 18.8295\n",
            "Epoch 97/100\n",
            "\u001b[1m7/7\u001b[0m \u001b[32m━━━━━━━━━━━━━━━━━━━━\u001b[0m\u001b[37m\u001b[0m \u001b[1m0s\u001b[0m 40ms/step - loss: 0.2442 - mae: 0.2445 - val_loss: 499.1396 - val_mae: 18.7654\n",
            "Epoch 98/100\n",
            "\u001b[1m7/7\u001b[0m \u001b[32m━━━━━━━━━━━━━━━━━━━━\u001b[0m\u001b[37m\u001b[0m \u001b[1m0s\u001b[0m 56ms/step - loss: 0.3419 - mae: 0.2691 - val_loss: 494.7103 - val_mae: 18.6707\n",
            "Epoch 99/100\n",
            "\u001b[1m7/7\u001b[0m \u001b[32m━━━━━━━━━━━━━━━━━━━━\u001b[0m\u001b[37m\u001b[0m \u001b[1m0s\u001b[0m 30ms/step - loss: 0.2960 - mae: 0.2885 - val_loss: 494.8655 - val_mae: 18.6868\n",
            "Epoch 100/100\n",
            "\u001b[1m7/7\u001b[0m \u001b[32m━━━━━━━━━━━━━━━━━━━━\u001b[0m\u001b[37m\u001b[0m \u001b[1m0s\u001b[0m 47ms/step - loss: 0.3141 - mae: 0.2609 - val_loss: 490.8371 - val_mae: 18.5852\n"
          ]
        },
        {
          "output_type": "display_data",
          "data": {
            "text/plain": [
              "<Figure size 800x600 with 1 Axes>"
            ],
            "image/png": "[encoded data removed]"
          },
          "metadata": {}
        },
        {
          "output_type": "stream",
          "name": "stdout",
          "text": [
            "Test Loss: 490.8371276855469, Test MAE: 18.585233688354492\n"
          ]
        }
      ]
    },
    {
      "cell_type": "markdown",
      "source": [
        "# Test des Modells\n"
      ],
      "metadata": {
        "id": "gd_pymU7HuAN"
      }
    },
    {
      "cell_type": "code",
      "source": [
        "print(model.predict(np.array([100.0])))"
      ],
      "metadata": {
        "colab": {
          "base_uri": "https://localhost:8080/"
        },
        "id": "hNjw2J2yHvv-",
        "outputId": "17e249de-1f14-48dd-e9ae-14c61ac18eba"
      },
      "execution_count": 150,
      "outputs": [
        {
          "output_type": "stream",
          "name": "stdout",
          "text": [
            "\u001b[1m1/1\u001b[0m \u001b[32m━━━━━━━━━━━━━━━━━━━━\u001b[0m\u001b[37m\u001b[0m \u001b[1m0s\u001b[0m 51ms/step\n",
            "[[211.92256]]\n"
          ]
        }
      ]
    },
    {
      "cell_type": "markdown",
      "source": [
        "# Weights des Modells\n"
      ],
      "metadata": {
        "id": "-WvHm5sEKjhj"
      }
    },
    {
      "cell_type": "code",
      "source": [
        "print(\"These are the layer variables: {}\".format(model.get_weights()))"
      ],
      "metadata": {
        "colab": {
          "base_uri": "https://localhost:8080/"
        },
        "id": "WpJqRSbpKmLX",
        "outputId": "8e47f22a-4d26-4932-8f59-0e60681a68e2"
      },
      "execution_count": 151,
      "outputs": [
        {
          "output_type": "stream",
          "name": "stdout",
          "text": [
            "These are the layer variables: [array([[ 0.25087255,  0.396131  ,  0.33358377,  0.33403268, -0.6660076 ,\n",
            "        -0.21489336,  0.81684744, -0.87227136, -0.74717474,  0.61589783,\n",
            "        -0.26829645, -0.8166537 , -0.37956548, -0.41285184, -0.21902555,\n",
            "         0.14103374]], dtype=float32), array([-0.08816948,  0.90246356, -1.6379851 ,  2.2676206 , -1.4107361 ,\n",
            "       -2.8880992 ,  1.5359539 , -0.51668453, -0.9436712 ,  1.5995816 ,\n",
            "       -1.6095556 , -0.46879837, -2.552438  , -0.9876296 , -1.2241307 ,\n",
            "        1.8961551 ], dtype=float32), array([[ 4.98775512e-01, -3.32548678e-01,  1.90350369e-01,\n",
            "         2.31506824e-01, -6.56823441e-02, -5.49546719e-01,\n",
            "         1.52884617e-01, -1.18980482e-01],\n",
            "       [ 7.33196557e-01,  5.97036667e-02, -7.97561884e-01,\n",
            "         1.35009646e-01,  2.98263997e-01, -3.64046484e-01,\n",
            "        -9.98097435e-02,  1.66937590e-01],\n",
            "       [-8.47688556e-01,  4.32766706e-01, -6.10448793e-03,\n",
            "        -7.34254181e-01, -2.37279281e-01, -3.76504779e-01,\n",
            "        -5.85903764e-01, -4.23155040e-01],\n",
            "       [ 4.80619594e-02,  6.60673603e-02, -2.14853072e+00,\n",
            "        -1.41132981e-01,  7.08715975e-01,  4.18150127e-01,\n",
            "         2.63898939e-01,  9.72732902e-02],\n",
            "       [-3.82804498e-02, -3.04669619e-01,  4.98127341e-01,\n",
            "         3.80013049e-01, -2.12849095e-01, -1.29751846e-01,\n",
            "         2.93299973e-01,  2.54754126e-01],\n",
            "       [-3.81720752e-01, -2.85323858e-01,  1.36408985e-01,\n",
            "        -9.48239386e-01, -1.73981730e-02, -9.30707455e-01,\n",
            "        -7.53401160e-01,  2.50571728e-01],\n",
            "       [ 4.78864074e-01,  2.11629644e-01, -8.14611733e-01,\n",
            "         6.60145283e-01,  6.91203952e-01,  1.09585963e-01,\n",
            "         6.82041407e-01, -1.84952453e-01],\n",
            "       [ 2.01214209e-01,  9.61570740e-02,  6.83828592e-01,\n",
            "        -5.01392893e-02, -2.38888219e-01,  1.98089257e-01,\n",
            "         1.56882033e-01, -9.52449739e-02],\n",
            "       [-4.10114303e-02, -4.95591521e-01,  8.66805851e-01,\n",
            "         4.44497973e-01, -4.77907687e-01,  8.45056921e-02,\n",
            "        -1.58010945e-01,  2.47448862e-01],\n",
            "       [ 1.74237117e-01, -1.41925558e-01, -3.53755243e-02,\n",
            "        -4.84596156e-02,  6.90235436e-01,  1.29426241e-01,\n",
            "         6.65718541e-02,  9.16962400e-02],\n",
            "       [ 1.87074065e-01, -1.19075298e-01,  7.28974819e-01,\n",
            "        -3.13683569e-01,  4.23689544e-01, -2.36723244e-01,\n",
            "        -4.21248645e-01, -2.53234714e-01],\n",
            "       [-2.67805308e-01, -5.04560471e-02,  7.74235010e-01,\n",
            "        -1.66586116e-01,  3.88904303e-01,  2.65062809e-01,\n",
            "         6.24981858e-02, -7.02541023e-02],\n",
            "       [ 2.92813778e-01, -1.43382668e-01,  3.58058393e-01,\n",
            "         3.20437178e-02,  2.53072202e-01, -6.97516859e-01,\n",
            "        -5.30611157e-01, -4.93884265e-01],\n",
            "       [-2.26803884e-01,  3.85479212e-01,  8.79122198e-01,\n",
            "        -3.13295245e-01, -5.00292182e-01,  2.48297602e-01,\n",
            "        -2.45061249e-01, -4.80489671e-01],\n",
            "       [-1.78800806e-01,  3.78810048e-01,  4.89095658e-01,\n",
            "        -1.71124920e-01, -4.55626488e-01, -1.01556301e-01,\n",
            "         2.88142497e-03,  1.83332562e-01],\n",
            "       [-1.56420887e-01, -1.06339216e-01, -3.35746765e+00,\n",
            "         6.73692942e-01,  1.70630440e-01,  4.30303574e-01,\n",
            "         7.01363564e-01,  3.32349628e-01]], dtype=float32), array([ 1.3613802 , -0.333205  , -0.9432758 ,  2.1006193 ,  1.0481638 ,\n",
            "        4.4089065 ,  1.9026096 ,  0.61964893], dtype=float32), array([[ 0.4949891 ],\n",
            "       [-0.06440107],\n",
            "       [-0.51263195],\n",
            "       [ 0.42197588],\n",
            "       [ 0.93321574],\n",
            "       [ 2.73504   ],\n",
            "       [ 0.39696455],\n",
            "       [ 0.11597379]], dtype=float32), array([1.5350473], dtype=float32)]\n"
          ]
        }
      ]
    }
  ]
}