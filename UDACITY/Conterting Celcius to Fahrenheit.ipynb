{
  "nbformat": 4,
  "nbformat_minor": 0,
  "metadata": {
    "colab": {
      "provenance": [],
      "collapsed_sections": [
        "Eo-c1TEZ2PGJ",
        "LWRjWM-y2gXu",
        "KfT5eBZA2s_-"
      ],
      "authorship_tag": "ABX9TyMDhChxnv42nnVBQWhPXG4h",
      "include_colab_link": true
    },
    "kernelspec": {
      "name": "python3",
      "display_name": "Python 3"
    },
    "language_info": {
      "name": "python"
    }
  },
  "cells": [
    {
      "cell_type": "markdown",
      "metadata": {
        "id": "view-in-github",
        "colab_type": "text"
      },
      "source": [
        "<a href=\"https://colab.research.google.com/github/RomanKundriukov/ki/blob/main/MachineLearningMitPython_ipunb.ipynb\" target=\"_parent\"><img src=\"https://colab.research.google.com/assets/colab-badge.svg\" alt=\"Open In Colab\"/></a>"
      ]
    },
    {
      "cell_type": "markdown",
      "source": [
        "# Modell Celsius zu Fahrenheit"
      ],
      "metadata": {
        "id": "Eo-c1TEZ2PGJ"
      }
    },
    {
      "cell_type": "code",
      "source": [
        "#!pip install openpyxl"
      ],
      "metadata": {
        "colab": {
          "base_uri": "https://localhost:8080/"
        },
        "id": "xPUahiLC9Ic6",
        "outputId": "25016ef0-38d7-468b-e49d-6d2d6e0c4deb"
      },
      "execution_count": 17,
      "outputs": [
        {
          "output_type": "stream",
          "name": "stdout",
          "text": [
            "Collecting openpyxl\n",
            "  Downloading openpyxl-3.1.5-py2.py3-none-any.whl.metadata (2.5 kB)\n",
            "Collecting et-xmlfile (from openpyxl)\n",
            "  Downloading et_xmlfile-2.0.0-py3-none-any.whl.metadata (2.7 kB)\n",
            "Downloading openpyxl-3.1.5-py2.py3-none-any.whl (250 kB)\n",
            "Downloading et_xmlfile-2.0.0-py3-none-any.whl (18 kB)\n",
            "Installing collected packages: et-xmlfile, openpyxl\n",
            "Successfully installed et-xmlfile-2.0.0 openpyxl-3.1.5\n",
            "\u001b[33mWARNING: Running pip as the 'root' user can result in broken permissions and conflicting behaviour with the system package manager, possibly rendering your system unusable.It is recommended to use a virtual environment instead: https://pip.pypa.io/warnings/venv. Use the --root-user-action option if you know what you are doing and want to suppress this warning.\u001b[0m\u001b[33m\n",
            "\u001b[0m"
          ]
        }
      ]
    },
    {
      "cell_type": "markdown",
      "source": [
        "# Import"
      ],
      "metadata": {
        "id": "LWRjWM-y2gXu"
      }
    },
    {
      "cell_type": "code",
      "execution_count": 37,
      "metadata": {
        "id": "lJ_mZ6lw4mym"
      },
      "outputs": [],
      "source": [
        "import tensorflow as tf\n",
        "import numpy as np\n",
        "import logging\n",
        "import os\n",
        "import pandas as pd\n",
        "import matplotlib.pyplot as plt"
      ]
    },
    {
      "cell_type": "markdown",
      "source": [
        "# initialisieren logger\n"
      ],
      "metadata": {
        "id": "KfT5eBZA2s_-"
      }
    },
    {
      "cell_type": "code",
      "source": [
        "logger = tf.get_logger()\n",
        "logger.setLevel(logging.ERROR)"
      ],
      "metadata": {
        "id": "6geAlIyC2obU"
      },
      "execution_count": 2,
      "outputs": []
    },
    {
      "cell_type": "markdown",
      "source": [
        "# Trainings Daten\n"
      ],
      "metadata": {
        "id": "Mp_P-_AX24uj"
      }
    },
    {
      "cell_type": "code",
      "source": [
        "# mein\n",
        "tabelle_pfad=\"./TrainingsData/C&F.xlsx\"\n",
        "\n",
        "df = pd.read_excel(tabelle_pfad)\n",
        "\n",
        "celcius_q = np.array(df['C'], dtype=float)\n",
        "fahrenheit_a = np.array(df['F'], dtype=float)\n",
        "\n",
        "celcius_q_train = celcius_q[:300]\n",
        "fahrenheit_a_train = fahrenheit_a[:300]\n",
        "\n",
        "# Testdaten (Labels - ab Index 200)\n",
        "celcius_q_label = celcius_q[300:]\n",
        "fahrenheit_a_label = fahrenheit_a[300:]\n"
      ],
      "metadata": {
        "id": "KYw3yW9Q29Qr"
      },
      "execution_count": 174,
      "outputs": []
    },
    {
      "cell_type": "markdown",
      "source": [
        "# Erstellen ein Modell (Dense Layer)"
      ],
      "metadata": {
        "id": "AgBDRgm54WNV"
      }
    },
    {
      "cell_type": "code",
      "source": [
        "# Modell definieren\n",
        "model = tf.keras.Sequential([\n",
        "    tf.keras.Input(shape=(1,)),               # Eingabe-Schicht explizit definiert\n",
        "    tf.keras.layers.Dense(16, activation='relu'),  # Verborgene Schicht\n",
        "    tf.keras.layers.Dense(8, activation='relu'),   # Weitere verborgene Schicht\n",
        "    tf.keras.layers.Dense(1)                       # Ausgabeschicht\n",
        "])\n",
        "\n",
        "# Modellübersicht anzeigen\n",
        "model.summary()\n",
        "\n",
        "# Modell kompilieren\n",
        "model.compile(\n",
        "    optimizer=tf.keras.optimizers.Adam(learning_rate=0.01),  # Kleinere Lernrate\n",
        "    loss='mean_squared_error',  # Verlustfunktion\n",
        "    metrics=['mae']             # Mittlerer absoluter Fehler als zusätzliche Metrik\n",
        ")"
      ],
      "metadata": {
        "colab": {
          "base_uri": "https://localhost:8080/",
          "height": 235
        },
        "id": "8S3ikxdI4bnv",
        "outputId": "8741946f-b5bb-4c46-d928-62a8f73aa644"
      },
      "execution_count": 175,
      "outputs": [
        {
          "output_type": "display_data",
          "data": {
            "text/plain": [
              "\u001b[1mModel: \"sequential_20\"\u001b[0m\n"
            ],
            "text/html": [
              "<pre style=\"white-space:pre;overflow-x:auto;line-height:normal;font-family:Menlo,'DejaVu Sans Mono',consolas,'Courier New',monospace\"><span style=\"font-weight: bold\">Model: \"sequential_20\"</span>\n",
              "</pre>\n"
            ]
          },
          "metadata": {}
        },
        {
          "output_type": "display_data",
          "data": {
            "text/plain": [
              "┏━━━━━━━━━━━━━━━━━━━━━━━━━━━━━━━━━┳━━━━━━━━━━━━━━━━━━━━━━━━┳━━━━━━━━━━━━━━━┓\n",
              "┃\u001b[1m \u001b[0m\u001b[1mLayer (type)                   \u001b[0m\u001b[1m \u001b[0m┃\u001b[1m \u001b[0m\u001b[1mOutput Shape          \u001b[0m\u001b[1m \u001b[0m┃\u001b[1m \u001b[0m\u001b[1m      Param #\u001b[0m\u001b[1m \u001b[0m┃\n",
              "┡━━━━━━━━━━━━━━━━━━━━━━━━━━━━━━━━━╇━━━━━━━━━━━━━━━━━━━━━━━━╇━━━━━━━━━━━━━━━┩\n",
              "│ dense_36 (\u001b[38;5;33mDense\u001b[0m)                │ (\u001b[38;5;45mNone\u001b[0m, \u001b[38;5;34m16\u001b[0m)             │            \u001b[38;5;34m32\u001b[0m │\n",
              "├─────────────────────────────────┼────────────────────────┼───────────────┤\n",
              "│ dense_37 (\u001b[38;5;33mDense\u001b[0m)                │ (\u001b[38;5;45mNone\u001b[0m, \u001b[38;5;34m8\u001b[0m)              │           \u001b[38;5;34m136\u001b[0m │\n",
              "├─────────────────────────────────┼────────────────────────┼───────────────┤\n",
              "│ dense_38 (\u001b[38;5;33mDense\u001b[0m)                │ (\u001b[38;5;45mNone\u001b[0m, \u001b[38;5;34m1\u001b[0m)              │             \u001b[38;5;34m9\u001b[0m │\n",
              "└─────────────────────────────────┴────────────────────────┴───────────────┘\n"
            ],
            "text/html": [
              "<pre style=\"white-space:pre;overflow-x:auto;line-height:normal;font-family:Menlo,'DejaVu Sans Mono',consolas,'Courier New',monospace\">┏━━━━━━━━━━━━━━━━━━━━━━━━━━━━━━━━━┳━━━━━━━━━━━━━━━━━━━━━━━━┳━━━━━━━━━━━━━━━┓\n",
              "┃<span style=\"font-weight: bold\"> Layer (type)                    </span>┃<span style=\"font-weight: bold\"> Output Shape           </span>┃<span style=\"font-weight: bold\">       Param # </span>┃\n",
              "┡━━━━━━━━━━━━━━━━━━━━━━━━━━━━━━━━━╇━━━━━━━━━━━━━━━━━━━━━━━━╇━━━━━━━━━━━━━━━┩\n",
              "│ dense_36 (<span style=\"color: #0087ff; text-decoration-color: #0087ff\">Dense</span>)                │ (<span style=\"color: #00d7ff; text-decoration-color: #00d7ff\">None</span>, <span style=\"color: #00af00; text-decoration-color: #00af00\">16</span>)             │            <span style=\"color: #00af00; text-decoration-color: #00af00\">32</span> │\n",
              "├─────────────────────────────────┼────────────────────────┼───────────────┤\n",
              "│ dense_37 (<span style=\"color: #0087ff; text-decoration-color: #0087ff\">Dense</span>)                │ (<span style=\"color: #00d7ff; text-decoration-color: #00d7ff\">None</span>, <span style=\"color: #00af00; text-decoration-color: #00af00\">8</span>)              │           <span style=\"color: #00af00; text-decoration-color: #00af00\">136</span> │\n",
              "├─────────────────────────────────┼────────────────────────┼───────────────┤\n",
              "│ dense_38 (<span style=\"color: #0087ff; text-decoration-color: #0087ff\">Dense</span>)                │ (<span style=\"color: #00d7ff; text-decoration-color: #00d7ff\">None</span>, <span style=\"color: #00af00; text-decoration-color: #00af00\">1</span>)              │             <span style=\"color: #00af00; text-decoration-color: #00af00\">9</span> │\n",
              "└─────────────────────────────────┴────────────────────────┴───────────────┘\n",
              "</pre>\n"
            ]
          },
          "metadata": {}
        },
        {
          "output_type": "display_data",
          "data": {
            "text/plain": [
              "\u001b[1m Total params: \u001b[0m\u001b[38;5;34m177\u001b[0m (708.00 B)\n"
            ],
            "text/html": [
              "<pre style=\"white-space:pre;overflow-x:auto;line-height:normal;font-family:Menlo,'DejaVu Sans Mono',consolas,'Courier New',monospace\"><span style=\"font-weight: bold\"> Total params: </span><span style=\"color: #00af00; text-decoration-color: #00af00\">177</span> (708.00 B)\n",
              "</pre>\n"
            ]
          },
          "metadata": {}
        },
        {
          "output_type": "display_data",
          "data": {
            "text/plain": [
              "\u001b[1m Trainable params: \u001b[0m\u001b[38;5;34m177\u001b[0m (708.00 B)\n"
            ],
            "text/html": [
              "<pre style=\"white-space:pre;overflow-x:auto;line-height:normal;font-family:Menlo,'DejaVu Sans Mono',consolas,'Courier New',monospace\"><span style=\"font-weight: bold\"> Trainable params: </span><span style=\"color: #00af00; text-decoration-color: #00af00\">177</span> (708.00 B)\n",
              "</pre>\n"
            ]
          },
          "metadata": {}
        },
        {
          "output_type": "display_data",
          "data": {
            "text/plain": [
              "\u001b[1m Non-trainable params: \u001b[0m\u001b[38;5;34m0\u001b[0m (0.00 B)\n"
            ],
            "text/html": [
              "<pre style=\"white-space:pre;overflow-x:auto;line-height:normal;font-family:Menlo,'DejaVu Sans Mono',consolas,'Courier New',monospace\"><span style=\"font-weight: bold\"> Non-trainable params: </span><span style=\"color: #00af00; text-decoration-color: #00af00\">0</span> (0.00 B)\n",
              "</pre>\n"
            ]
          },
          "metadata": {}
        }
      ]
    },
    {
      "cell_type": "markdown",
      "source": [
        "# Training des Modells"
      ],
      "metadata": {
        "id": "w0KJm8_wCeV_"
      }
    },
    {
      "cell_type": "code",
      "source": [
        "#Mein\n",
        "# Callbacks konfigurieren\n",
        "callbacks = [\n",
        "    tf.keras.callbacks.ModelCheckpoint(\n",
        "        filepath='./Modells/C&F.keras',  # Speicherort des besten Modells\n",
        "        save_best_only=True,            # Speichert nur das beste Modell\n",
        "        monitor='val_loss',             # Überwache den Validierungsverlust\n",
        "        mode='min'                      # Minimierung des Loss\n",
        "    ),\n",
        "    tf.keras.callbacks.EarlyStopping(\n",
        "        monitor='val_loss',             # Überwache den Validierungsverlust\n",
        "        patience=10,                    # Stoppt, wenn sich der Verlust 10 Epochen nicht verbessert\n",
        "        restore_best_weights=True       # Stellt die besten Gewichte wieder her\n",
        "    )\n",
        "]\n",
        "\n",
        "history = model.fit(\n",
        "    celcius_q_train, fahrenheit_a_train,\n",
        "    validation_data=(celcius_q_label, fahrenheit_a_label),\n",
        "    epochs=500,\n",
        "    batch_size=32,\n",
        "    callbacks=callbacks,\n",
        "    verbose=1\n",
        ")\n",
        "\n",
        "plt.figure(figsize=(8, 6))\n",
        "plt.plot(history.history['loss'], label='Training Loss')\n",
        "plt.plot(history.history['val_loss'], label='Validation Loss')\n",
        "plt.xlabel('Epochs')\n",
        "plt.ylabel('Loss')\n",
        "plt.legend()\n",
        "plt.grid(True)\n",
        "plt.show()\n",
        "\n",
        "loss, mae = model.evaluate(celcius_q_label, fahrenheit_a_label, verbose=0)\n",
        "print(f\"Test Loss: {loss}, Test MAE: {mae}\")"
      ],
      "metadata": {
        "colab": {
          "base_uri": "https://localhost:8080/",
          "height": 1000
        },
        "id": "9KsLDHsRCgdg",
        "outputId": "42f8b3a4-4599-45e4-b9e1-ec2acfc0a923"
      },
      "execution_count": 185,
      "outputs": [
        {
          "output_type": "stream",
          "name": "stdout",
          "text": [
            "Epoch 1/500\n",
            "\u001b[1m10/10\u001b[0m \u001b[32m━━━━━━━━━━━━━━━━━━━━\u001b[0m\u001b[37m\u001b[0m \u001b[1m0s\u001b[0m 34ms/step - loss: 205.2741 - mae: 11.8976 - val_loss: 628.3693 - val_mae: 24.5751\n",
            "Epoch 2/500\n",
            "\u001b[1m10/10\u001b[0m \u001b[32m━━━━━━━━━━━━━━━━━━━━\u001b[0m\u001b[37m\u001b[0m \u001b[1m0s\u001b[0m 10ms/step - loss: 212.1108 - mae: 12.1810 - val_loss: 790.9713 - val_mae: 27.6416\n",
            "Epoch 3/500\n",
            "\u001b[1m10/10\u001b[0m \u001b[32m━━━━━━━━━━━━━━━━━━━━\u001b[0m\u001b[37m\u001b[0m \u001b[1m0s\u001b[0m 17ms/step - loss: 202.4456 - mae: 11.9746 - val_loss: 367.8108 - val_mae: 18.6824\n",
            "Epoch 4/500\n",
            "\u001b[1m10/10\u001b[0m \u001b[32m━━━━━━━━━━━━━━━━━━━━\u001b[0m\u001b[37m\u001b[0m \u001b[1m0s\u001b[0m 13ms/step - loss: 175.2062 - mae: 10.7946 - val_loss: 553.3271 - val_mae: 23.0497\n",
            "Epoch 5/500\n",
            "\u001b[1m10/10\u001b[0m \u001b[32m━━━━━━━━━━━━━━━━━━━━\u001b[0m\u001b[37m\u001b[0m \u001b[1m0s\u001b[0m 11ms/step - loss: 187.4231 - mae: 11.4879 - val_loss: 431.6410 - val_mae: 20.3123\n",
            "Epoch 6/500\n",
            "\u001b[1m10/10\u001b[0m \u001b[32m━━━━━━━━━━━━━━━━━━━━\u001b[0m\u001b[37m\u001b[0m \u001b[1m0s\u001b[0m 14ms/step - loss: 178.1243 - mae: 11.0840 - val_loss: 671.6412 - val_mae: 25.4700\n",
            "Epoch 7/500\n",
            "\u001b[1m10/10\u001b[0m \u001b[32m━━━━━━━━━━━━━━━━━━━━\u001b[0m\u001b[37m\u001b[0m \u001b[1m0s\u001b[0m 36ms/step - loss: 181.1381 - mae: 11.3235 - val_loss: 279.4219 - val_mae: 16.2555\n",
            "Epoch 8/500\n",
            "\u001b[1m10/10\u001b[0m \u001b[32m━━━━━━━━━━━━━━━━━━━━\u001b[0m\u001b[37m\u001b[0m \u001b[1m1s\u001b[0m 29ms/step - loss: 178.8089 - mae: 11.2172 - val_loss: 185.7964 - val_mae: 13.1261\n",
            "Epoch 9/500\n",
            "\u001b[1m10/10\u001b[0m \u001b[32m━━━━━━━━━━━━━━━━━━━━\u001b[0m\u001b[37m\u001b[0m \u001b[1m0s\u001b[0m 17ms/step - loss: 160.4353 - mae: 10.4017 - val_loss: 341.7823 - val_mae: 18.0589\n",
            "Epoch 10/500\n",
            "\u001b[1m10/10\u001b[0m \u001b[32m━━━━━━━━━━━━━━━━━━━━\u001b[0m\u001b[37m\u001b[0m \u001b[1m0s\u001b[0m 15ms/step - loss: 151.6094 - mae: 10.2204 - val_loss: 370.3036 - val_mae: 18.8298\n",
            "Epoch 11/500\n",
            "\u001b[1m10/10\u001b[0m \u001b[32m━━━━━━━━━━━━━━━━━━━━\u001b[0m\u001b[37m\u001b[0m \u001b[1m0s\u001b[0m 18ms/step - loss: 146.1781 - mae: 10.3033 - val_loss: 241.6586 - val_mae: 15.0825\n",
            "Epoch 12/500\n",
            "\u001b[1m10/10\u001b[0m \u001b[32m━━━━━━━━━━━━━━━━━━━━\u001b[0m\u001b[37m\u001b[0m \u001b[1m0s\u001b[0m 22ms/step - loss: 136.0730 - mae: 9.5889 - val_loss: 299.1059 - val_mae: 16.8895\n",
            "Epoch 13/500\n",
            "\u001b[1m10/10\u001b[0m \u001b[32m━━━━━━━━━━━━━━━━━━━━\u001b[0m\u001b[37m\u001b[0m \u001b[1m1s\u001b[0m 24ms/step - loss: 132.2120 - mae: 9.5825 - val_loss: 286.4688 - val_mae: 16.5274\n",
            "Epoch 14/500\n",
            "\u001b[1m10/10\u001b[0m \u001b[32m━━━━━━━━━━━━━━━━━━━━\u001b[0m\u001b[37m\u001b[0m \u001b[1m0s\u001b[0m 20ms/step - loss: 117.4001 - mae: 9.1237 - val_loss: 257.5061 - val_mae: 15.6820\n",
            "Epoch 15/500\n",
            "\u001b[1m10/10\u001b[0m \u001b[32m━━━━━━━━━━━━━━━━━━━━\u001b[0m\u001b[37m\u001b[0m \u001b[1m0s\u001b[0m 23ms/step - loss: 109.7309 - mae: 8.8396 - val_loss: 261.1280 - val_mae: 15.8126\n",
            "Epoch 16/500\n",
            "\u001b[1m10/10\u001b[0m \u001b[32m━━━━━━━━━━━━━━━━━━━━\u001b[0m\u001b[37m\u001b[0m \u001b[1m0s\u001b[0m 17ms/step - loss: 106.3462 - mae: 8.4685 - val_loss: 434.2215 - val_mae: 20.5122\n",
            "Epoch 17/500\n",
            "\u001b[1m10/10\u001b[0m \u001b[32m━━━━━━━━━━━━━━━━━━━━\u001b[0m\u001b[37m\u001b[0m \u001b[1m0s\u001b[0m 17ms/step - loss: 102.2781 - mae: 8.4252 - val_loss: 241.9736 - val_mae: 15.2450\n",
            "Epoch 18/500\n",
            "\u001b[1m10/10\u001b[0m \u001b[32m━━━━━━━━━━━━━━━━━━━━\u001b[0m\u001b[37m\u001b[0m \u001b[1m0s\u001b[0m 28ms/step - loss: 89.5505 - mae: 7.9499 - val_loss: 131.3079 - val_mae: 10.9671\n",
            "Epoch 19/500\n",
            "\u001b[1m10/10\u001b[0m \u001b[32m━━━━━━━━━━━━━━━━━━━━\u001b[0m\u001b[37m\u001b[0m \u001b[1m0s\u001b[0m 15ms/step - loss: 86.8429 - mae: 7.7384 - val_loss: 160.9408 - val_mae: 12.4052\n",
            "Epoch 20/500\n",
            "\u001b[1m10/10\u001b[0m \u001b[32m━━━━━━━━━━━━━━━━━━━━\u001b[0m\u001b[37m\u001b[0m \u001b[1m0s\u001b[0m 16ms/step - loss: 70.8909 - mae: 7.0256 - val_loss: 286.1390 - val_mae: 16.6652\n",
            "Epoch 21/500\n",
            "\u001b[1m10/10\u001b[0m \u001b[32m━━━━━━━━━━━━━━━━━━━━\u001b[0m\u001b[37m\u001b[0m \u001b[1m0s\u001b[0m 16ms/step - loss: 68.6589 - mae: 6.9297 - val_loss: 669.2736 - val_mae: 25.6164\n",
            "Epoch 22/500\n",
            "\u001b[1m10/10\u001b[0m \u001b[32m━━━━━━━━━━━━━━━━━━━━\u001b[0m\u001b[37m\u001b[0m \u001b[1m0s\u001b[0m 19ms/step - loss: 70.3065 - mae: 7.1222 - val_loss: 363.7213 - val_mae: 18.7349\n",
            "Epoch 23/500\n",
            "\u001b[1m10/10\u001b[0m \u001b[32m━━━━━━━━━━━━━━━━━━━━\u001b[0m\u001b[37m\u001b[0m \u001b[1m0s\u001b[0m 25ms/step - loss: 57.2596 - mae: 6.5995 - val_loss: 429.2361 - val_mae: 20.3881\n",
            "Epoch 24/500\n",
            "\u001b[1m10/10\u001b[0m \u001b[32m━━━━━━━━━━━━━━━━━━━━\u001b[0m\u001b[37m\u001b[0m \u001b[1m1s\u001b[0m 20ms/step - loss: 40.3569 - mae: 5.3240 - val_loss: 233.3155 - val_mae: 15.0288\n",
            "Epoch 25/500\n",
            "\u001b[1m10/10\u001b[0m \u001b[32m━━━━━━━━━━━━━━━━━━━━\u001b[0m\u001b[37m\u001b[0m \u001b[1m0s\u001b[0m 36ms/step - loss: 29.1454 - mae: 4.5042 - val_loss: 28.4962 - val_mae: 5.0512\n",
            "Epoch 26/500\n",
            "\u001b[1m10/10\u001b[0m \u001b[32m━━━━━━━━━━━━━━━━━━━━\u001b[0m\u001b[37m\u001b[0m \u001b[1m0s\u001b[0m 19ms/step - loss: 14.7465 - mae: 2.7417 - val_loss: 49.3917 - val_mae: 7.0144\n",
            "Epoch 27/500\n",
            "\u001b[1m10/10\u001b[0m \u001b[32m━━━━━━━━━━━━━━━━━━━━\u001b[0m\u001b[37m\u001b[0m \u001b[1m0s\u001b[0m 34ms/step - loss: 15.0700 - mae: 3.1405 - val_loss: 20.3205 - val_mae: 4.4631\n",
            "Epoch 28/500\n",
            "\u001b[1m10/10\u001b[0m \u001b[32m━━━━━━━━━━━━━━━━━━━━\u001b[0m\u001b[37m\u001b[0m \u001b[1m0s\u001b[0m 19ms/step - loss: 12.2912 - mae: 2.8377 - val_loss: 22.6211 - val_mae: 4.7073\n",
            "Epoch 29/500\n",
            "\u001b[1m10/10\u001b[0m \u001b[32m━━━━━━━━━━━━━━━━━━━━\u001b[0m\u001b[37m\u001b[0m \u001b[1m0s\u001b[0m 27ms/step - loss: 10.6415 - mae: 2.6566 - val_loss: 39.8081 - val_mae: 6.2547\n",
            "Epoch 30/500\n",
            "\u001b[1m10/10\u001b[0m \u001b[32m━━━━━━━━━━━━━━━━━━━━\u001b[0m\u001b[37m\u001b[0m \u001b[1m0s\u001b[0m 36ms/step - loss: 9.9906 - mae: 2.4626 - val_loss: 0.6394 - val_mae: 0.6671\n",
            "Epoch 31/500\n",
            "\u001b[1m10/10\u001b[0m \u001b[32m━━━━━━━━━━━━━━━━━━━━\u001b[0m\u001b[37m\u001b[0m \u001b[1m0s\u001b[0m 23ms/step - loss: 8.3357 - mae: 2.2956 - val_loss: 6.4199 - val_mae: 2.4505\n",
            "Epoch 32/500\n",
            "\u001b[1m10/10\u001b[0m \u001b[32m━━━━━━━━━━━━━━━━━━━━\u001b[0m\u001b[37m\u001b[0m \u001b[1m0s\u001b[0m 21ms/step - loss: 6.9160 - mae: 2.1624 - val_loss: 0.6421 - val_mae: 0.7329\n",
            "Epoch 33/500\n",
            "\u001b[1m10/10\u001b[0m \u001b[32m━━━━━━━━━━━━━━━━━━━━\u001b[0m\u001b[37m\u001b[0m \u001b[1m0s\u001b[0m 21ms/step - loss: 4.2154 - mae: 1.6010 - val_loss: 6.2988 - val_mae: 2.4687\n",
            "Epoch 34/500\n",
            "\u001b[1m10/10\u001b[0m \u001b[32m━━━━━━━━━━━━━━━━━━━━\u001b[0m\u001b[37m\u001b[0m \u001b[1m0s\u001b[0m 26ms/step - loss: 3.0145 - mae: 1.2184 - val_loss: 2.3964 - val_mae: 1.5047\n",
            "Epoch 35/500\n",
            "\u001b[1m10/10\u001b[0m \u001b[32m━━━━━━━━━━━━━━━━━━━━\u001b[0m\u001b[37m\u001b[0m \u001b[1m0s\u001b[0m 35ms/step - loss: 3.5250 - mae: 1.4108 - val_loss: 0.2520 - val_mae: 0.4228\n",
            "Epoch 36/500\n",
            "\u001b[1m10/10\u001b[0m \u001b[32m━━━━━━━━━━━━━━━━━━━━\u001b[0m\u001b[37m\u001b[0m \u001b[1m0s\u001b[0m 31ms/step - loss: 2.8845 - mae: 1.2153 - val_loss: 0.1769 - val_mae: 0.3300\n",
            "Epoch 37/500\n",
            "\u001b[1m10/10\u001b[0m \u001b[32m━━━━━━━━━━━━━━━━━━━━\u001b[0m\u001b[37m\u001b[0m \u001b[1m0s\u001b[0m 18ms/step - loss: 2.3239 - mae: 1.1260 - val_loss: 3.1944 - val_mae: 1.7496\n",
            "Epoch 38/500\n",
            "\u001b[1m10/10\u001b[0m \u001b[32m━━━━━━━━━━━━━━━━━━━━\u001b[0m\u001b[37m\u001b[0m \u001b[1m0s\u001b[0m 17ms/step - loss: 2.1480 - mae: 1.0887 - val_loss: 1.2559 - val_mae: 1.0769\n",
            "Epoch 39/500\n",
            "\u001b[1m10/10\u001b[0m \u001b[32m━━━━━━━━━━━━━━━━━━━━\u001b[0m\u001b[37m\u001b[0m \u001b[1m0s\u001b[0m 16ms/step - loss: 1.8392 - mae: 1.0027 - val_loss: 0.3552 - val_mae: 0.5327\n",
            "Epoch 40/500\n",
            "\u001b[1m10/10\u001b[0m \u001b[32m━━━━━━━━━━━━━━━━━━━━\u001b[0m\u001b[37m\u001b[0m \u001b[1m0s\u001b[0m 18ms/step - loss: 1.5438 - mae: 0.9069 - val_loss: 0.2020 - val_mae: 0.3697\n",
            "Epoch 41/500\n",
            "\u001b[1m10/10\u001b[0m \u001b[32m━━━━━━━━━━━━━━━━━━━━\u001b[0m\u001b[37m\u001b[0m \u001b[1m0s\u001b[0m 20ms/step - loss: 1.5511 - mae: 0.9406 - val_loss: 0.2045 - val_mae: 0.3714\n",
            "Epoch 42/500\n",
            "\u001b[1m10/10\u001b[0m \u001b[32m━━━━━━━━━━━━━━━━━━━━\u001b[0m\u001b[37m\u001b[0m \u001b[1m0s\u001b[0m 30ms/step - loss: 1.3384 - mae: 0.8843 - val_loss: 0.1718 - val_mae: 0.3268\n",
            "Epoch 43/500\n",
            "\u001b[1m10/10\u001b[0m \u001b[32m━━━━━━━━━━━━━━━━━━━━\u001b[0m\u001b[37m\u001b[0m \u001b[1m0s\u001b[0m 29ms/step - loss: 1.0277 - mae: 0.7787 - val_loss: 0.1394 - val_mae: 0.3430\n",
            "Epoch 44/500\n",
            "\u001b[1m10/10\u001b[0m \u001b[32m━━━━━━━━━━━━━━━━━━━━\u001b[0m\u001b[37m\u001b[0m \u001b[1m0s\u001b[0m 20ms/step - loss: 1.3280 - mae: 0.9233 - val_loss: 0.7712 - val_mae: 0.8772\n",
            "Epoch 45/500\n",
            "\u001b[1m10/10\u001b[0m \u001b[32m━━━━━━━━━━━━━━━━━━━━\u001b[0m\u001b[37m\u001b[0m \u001b[1m0s\u001b[0m 19ms/step - loss: 1.2875 - mae: 0.9435 - val_loss: 0.4584 - val_mae: 0.6208\n",
            "Epoch 46/500\n",
            "\u001b[1m10/10\u001b[0m \u001b[32m━━━━━━━━━━━━━━━━━━━━\u001b[0m\u001b[37m\u001b[0m \u001b[1m0s\u001b[0m 17ms/step - loss: 0.8436 - mae: 0.6839 - val_loss: 0.2872 - val_mae: 0.5271\n",
            "Epoch 47/500\n",
            "\u001b[1m10/10\u001b[0m \u001b[32m━━━━━━━━━━━━━━━━━━━━\u001b[0m\u001b[37m\u001b[0m \u001b[1m0s\u001b[0m 15ms/step - loss: 0.9380 - mae: 0.7889 - val_loss: 0.1543 - val_mae: 0.3680\n",
            "Epoch 48/500\n",
            "\u001b[1m10/10\u001b[0m \u001b[32m━━━━━━━━━━━━━━━━━━━━\u001b[0m\u001b[37m\u001b[0m \u001b[1m0s\u001b[0m 15ms/step - loss: 0.7764 - mae: 0.6919 - val_loss: 0.5148 - val_mae: 0.6658\n",
            "Epoch 49/500\n",
            "\u001b[1m10/10\u001b[0m \u001b[32m━━━━━━━━━━━━━━━━━━━━\u001b[0m\u001b[37m\u001b[0m \u001b[1m0s\u001b[0m 36ms/step - loss: 0.5800 - mae: 0.5824 - val_loss: 0.0497 - val_mae: 0.1126\n",
            "Epoch 50/500\n",
            "\u001b[1m10/10\u001b[0m \u001b[32m━━━━━━━━━━━━━━━━━━━━\u001b[0m\u001b[37m\u001b[0m \u001b[1m0s\u001b[0m 16ms/step - loss: 0.6271 - mae: 0.6255 - val_loss: 0.4892 - val_mae: 0.6487\n",
            "Epoch 51/500\n",
            "\u001b[1m10/10\u001b[0m \u001b[32m━━━━━━━━━━━━━━━━━━━━\u001b[0m\u001b[37m\u001b[0m \u001b[1m0s\u001b[0m 20ms/step - loss: 0.5164 - mae: 0.5418 - val_loss: 0.6346 - val_mae: 0.7503\n",
            "Epoch 52/500\n",
            "\u001b[1m10/10\u001b[0m \u001b[32m━━━━━━━━━━━━━━━━━━━━\u001b[0m\u001b[37m\u001b[0m \u001b[1m0s\u001b[0m 22ms/step - loss: 0.5372 - mae: 0.5315 - val_loss: 0.4766 - val_mae: 0.6400\n",
            "Epoch 53/500\n",
            "\u001b[1m10/10\u001b[0m \u001b[32m━━━━━━━━━━━━━━━━━━━━\u001b[0m\u001b[37m\u001b[0m \u001b[1m0s\u001b[0m 18ms/step - loss: 0.5241 - mae: 0.5241 - val_loss: 0.3705 - val_mae: 0.5539\n",
            "Epoch 54/500\n",
            "\u001b[1m10/10\u001b[0m \u001b[32m━━━━━━━━━━━━━━━━━━━━\u001b[0m\u001b[37m\u001b[0m \u001b[1m0s\u001b[0m 18ms/step - loss: 0.4132 - mae: 0.4771 - val_loss: 0.3569 - val_mae: 0.5436\n",
            "Epoch 55/500\n",
            "\u001b[1m10/10\u001b[0m \u001b[32m━━━━━━━━━━━━━━━━━━━━\u001b[0m\u001b[37m\u001b[0m \u001b[1m0s\u001b[0m 17ms/step - loss: 0.3793 - mae: 0.4352 - val_loss: 0.6568 - val_mae: 0.7674\n",
            "Epoch 56/500\n",
            "\u001b[1m10/10\u001b[0m \u001b[32m━━━━━━━━━━━━━━━━━━━━\u001b[0m\u001b[37m\u001b[0m \u001b[1m0s\u001b[0m 21ms/step - loss: 0.3482 - mae: 0.4453 - val_loss: 0.3876 - val_mae: 0.5731\n",
            "Epoch 57/500\n",
            "\u001b[1m10/10\u001b[0m \u001b[32m━━━━━━━━━━━━━━━━━━━━\u001b[0m\u001b[37m\u001b[0m \u001b[1m0s\u001b[0m 22ms/step - loss: 0.2920 - mae: 0.4155 - val_loss: 0.1003 - val_mae: 0.2283\n",
            "Epoch 58/500\n",
            "\u001b[1m10/10\u001b[0m \u001b[32m━━━━━━━━━━━━━━━━━━━━\u001b[0m\u001b[37m\u001b[0m \u001b[1m0s\u001b[0m 22ms/step - loss: 0.3484 - mae: 0.4432 - val_loss: 1.7102 - val_mae: 1.3004\n",
            "Epoch 59/500\n",
            "\u001b[1m10/10\u001b[0m \u001b[32m━━━━━━━━━━━━━━━━━━━━\u001b[0m\u001b[37m\u001b[0m \u001b[1m0s\u001b[0m 25ms/step - loss: 0.6197 - mae: 0.6610 - val_loss: 0.0512 - val_mae: 0.1433\n"
          ]
        },
        {
          "output_type": "display_data",
          "data": {
            "text/plain": [
              "<Figure size 800x600 with 1 Axes>"
            ],
            "image/png": "[encoded data removed]"
          },
          "metadata": {}
        },
        {
          "output_type": "stream",
          "name": "stdout",
          "text": [
            "Test Loss: 0.04969349130988121, Test MAE: 0.11256144195795059\n"
          ]
        }
      ]
    },
    {
      "cell_type": "markdown",
      "source": [
        "# Test des Modells\n"
      ],
      "metadata": {
        "id": "gd_pymU7HuAN"
      }
    },
    {
      "cell_type": "code",
      "source": [
        "print(model.predict(np.array([100.0])))"
      ],
      "metadata": {
        "colab": {
          "base_uri": "https://localhost:8080/"
        },
        "id": "hNjw2J2yHvv-",
        "outputId": "317daa49-44ee-4c86-cc92-a9667d72efa5"
      },
      "execution_count": 186,
      "outputs": [
        {
          "output_type": "stream",
          "name": "stdout",
          "text": [
            "\u001b[1m1/1\u001b[0m \u001b[32m━━━━━━━━━━━━━━━━━━━━\u001b[0m\u001b[37m\u001b[0m \u001b[1m0s\u001b[0m 67ms/step\n",
            "[[212.41002]]\n"
          ]
        }
      ]
    },
    {
      "cell_type": "markdown",
      "source": [
        "# Weights des Modells\n"
      ],
      "metadata": {
        "id": "-WvHm5sEKjhj"
      }
    },
    {
      "cell_type": "code",
      "source": [
        "print(\"These are the layer variables: {}\".format(model.get_weights()))"
      ],
      "metadata": {
        "colab": {
          "base_uri": "https://localhost:8080/"
        },
        "id": "WpJqRSbpKmLX",
        "outputId": "1e532811-dc59-4364-fbe4-1c97122a801c"
      },
      "execution_count": 187,
      "outputs": [
        {
          "output_type": "stream",
          "name": "stdout",
          "text": [
            "These are the layer variables: [array([[ 0.50506335,  0.32663196,  0.57680506, -0.48892394,  0.52910817,\n",
            "        -0.00541955,  0.656745  ,  0.6380263 , -0.15124975, -0.3292425 ,\n",
            "        -0.56948394, -0.31615797,  0.38863716, -0.40484616,  0.1305754 ,\n",
            "         0.16524237]], dtype=float32), array([ 0.74112123,  2.2058465 ,  2.1505277 , -0.22786221,  1.5913905 ,\n",
            "        2.7215555 ,  1.4619564 ,  2.370709  , -3.335484  , -1.1759828 ,\n",
            "       -1.5150684 , -0.90670216,  2.8174937 , -1.1921784 ,  2.8025253 ,\n",
            "        2.6384056 ], dtype=float32), array([[-0.39788213, -0.5589033 , -0.19795796,  0.21585469,  0.1045804 ,\n",
            "         0.09012474, -0.4372744 ,  0.4730698 ],\n",
            "       [-0.8242804 ,  0.2958941 , -0.48193422,  0.17054553, -0.04063368,\n",
            "        -0.49141455, -0.25942868,  0.52680737],\n",
            "       [-0.07791347,  0.10420145, -0.2749932 , -0.39047673, -0.231282  ,\n",
            "         0.03319472,  0.13070014,  0.4213156 ],\n",
            "       [ 0.27588883,  0.32591277,  0.53601646,  0.47543487,  0.01232803,\n",
            "        -0.49502206,  0.17333546,  0.5053829 ],\n",
            "       [-0.20363127, -0.21719217,  0.0510823 ,  0.0873962 ,  0.31723666,\n",
            "        -0.42569026,  0.03209617,  0.5597101 ],\n",
            "       [-1.865182  ,  0.6375478 , -2.157741  ,  0.01493269, -0.40017354,\n",
            "         0.11402056, -0.16832027,  0.6891586 ],\n",
            "       [-0.291545  , -0.4166735 , -0.48736534,  0.22561076, -0.3867662 ,\n",
            "         0.03509083, -0.09076238,  0.66094476],\n",
            "       [-0.11699702,  0.23456986, -0.52822465, -0.29359612, -0.30755484,\n",
            "        -0.16606236, -0.25962454,  0.774153  ],\n",
            "       [ 0.20620893, -1.248432  ,  0.34483552, -0.17616977, -0.4257933 ,\n",
            "        -0.131905  ,  0.31250018, -0.8522097 ],\n",
            "       [ 0.7195475 ,  0.35659435,  0.19413003,  0.11011655, -0.20124483,\n",
            "        -0.384313  ,  0.64525974, -0.28334963],\n",
            "       [ 0.4095621 , -0.35264608,  0.49912593,  0.46869415, -0.24028087,\n",
            "        -0.47807825,  0.70092785, -0.32926613],\n",
            "       [ 0.17364715,  0.19929075,  0.66790867,  0.15723853, -0.47267842,\n",
            "        -0.13877153,  0.1521223 ,  0.03971114],\n",
            "       [-0.4281234 ,  0.43448335, -0.15059902, -0.4474602 , -0.33795166,\n",
            "         0.00500661,  0.03926067,  0.43085492],\n",
            "       [ 0.6741474 ,  0.04849834,  0.3741264 ,  0.34570166,  0.1208266 ,\n",
            "        -0.4647379 ,  0.15925312, -0.1324029 ],\n",
            "       [ 0.28964582,  0.66583586, -0.20287675, -0.0096044 , -0.28283763,\n",
            "        -0.08148468,  0.07744574,  0.6593244 ],\n",
            "       [-0.5317277 ,  0.8402354 , -0.4673427 , -0.4882892 ,  0.05744195,\n",
            "         0.2824885 , -0.34292707,  0.9058264 ]], dtype=float32), array([-0.7441735 ,  4.685148  , -0.70448714, -1.7616057 ,  0.        ,\n",
            "       -0.12490658, -1.2455958 ,  2.7933335 ], dtype=float32), array([[-0.6140644 ],\n",
            "       [ 1.41194   ],\n",
            "       [-0.6986846 ],\n",
            "       [-0.2163347 ],\n",
            "       [ 0.63577664],\n",
            "       [-0.6857646 ],\n",
            "       [-0.36515322],\n",
            "       [ 0.781247  ]], dtype=float32), array([1.3626325], dtype=float32)]\n"
          ]
        }
      ]
    }
  ]
}